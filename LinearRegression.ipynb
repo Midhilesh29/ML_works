{
 "cells": [
  {
   "cell_type": "code",
   "execution_count": 10,
   "metadata": {
    "collapsed": true
   },
   "outputs": [],
   "source": [
    "import pandas as pd\n",
    "import numpy as np"
   ]
  },
  {
   "cell_type": "code",
   "execution_count": 14,
   "metadata": {
    "collapsed": true
   },
   "outputs": [],
   "source": [
    "df=pd.read_csv(r'data1.csv',header=None)"
   ]
  },
  {
   "cell_type": "code",
   "execution_count": 16,
   "metadata": {
    "collapsed": true
   },
   "outputs": [],
   "source": [
    "from sklearn import linear_model"
   ]
  },
  {
   "cell_type": "code",
   "execution_count": 51,
   "metadata": {},
   "outputs": [
    {
     "data": {
      "text/plain": [
       "pandas.core.frame.DataFrame"
      ]
     },
     "execution_count": 51,
     "metadata": {},
     "output_type": "execute_result"
    }
   ],
   "source": [
    "type(df)"
   ]
  },
  {
   "cell_type": "code",
   "execution_count": 22,
   "metadata": {
    "collapsed": true
   },
   "outputs": [],
   "source": [
    "data=df.values"
   ]
  },
  {
   "cell_type": "code",
   "execution_count": 52,
   "metadata": {},
   "outputs": [
    {
     "data": {
      "text/plain": [
       "numpy.ndarray"
      ]
     },
     "execution_count": 52,
     "metadata": {},
     "output_type": "execute_result"
    }
   ],
   "source": [
    "type(data)"
   ]
  },
  {
   "cell_type": "code",
   "execution_count": 53,
   "metadata": {},
   "outputs": [
    {
     "data": {
      "text/plain": [
       "array([[  1.00000000e+00,   3.38500000e+00,   4.45000000e+01],\n",
       "       [  2.00000000e+00,   4.80000000e-01,   1.55000000e+01],\n",
       "       [  3.00000000e+00,   1.35000000e+00,   8.10000000e+00],\n",
       "       [  4.00000000e+00,   4.65000000e+02,   4.23000000e+02],\n",
       "       [  5.00000000e+00,   3.63300000e+01,   1.19500000e+02],\n",
       "       [  6.00000000e+00,   2.76600000e+01,   1.15000000e+02],\n",
       "       [  7.00000000e+00,   1.48300000e+01,   9.82000000e+01],\n",
       "       [  8.00000000e+00,   1.04000000e+00,   5.50000000e+00],\n",
       "       [  9.00000000e+00,   4.19000000e+00,   5.80000000e+01],\n",
       "       [  1.00000000e+01,   4.25000000e-01,   6.40000000e+00],\n",
       "       [  1.10000000e+01,   1.01000000e-01,   4.00000000e+00],\n",
       "       [  1.20000000e+01,   9.20000000e-01,   5.70000000e+00],\n",
       "       [  1.30000000e+01,   1.00000000e+00,   6.60000000e+00],\n",
       "       [  1.40000000e+01,   5.00000000e-03,   1.40000000e-01],\n",
       "       [  1.50000000e+01,   6.00000000e-02,   1.00000000e+00],\n",
       "       [  1.60000000e+01,   3.50000000e+00,   1.08000000e+01],\n",
       "       [  1.70000000e+01,   2.00000000e+00,   1.23000000e+01],\n",
       "       [  1.80000000e+01,   1.70000000e+00,   6.30000000e+00],\n",
       "       [  1.90000000e+01,   2.54700000e+03,   4.60300000e+03],\n",
       "       [  2.00000000e+01,   2.30000000e-02,   3.00000000e-01],\n",
       "       [  2.10000000e+01,   1.87100000e+02,   4.19000000e+02],\n",
       "       [  2.20000000e+01,   5.21000000e+02,   6.55000000e+02],\n",
       "       [  2.30000000e+01,   7.85000000e-01,   3.50000000e+00],\n",
       "       [  2.40000000e+01,   1.00000000e+01,   1.15000000e+02],\n",
       "       [  2.50000000e+01,   3.30000000e+00,   2.56000000e+01],\n",
       "       [  2.60000000e+01,   2.00000000e-01,   5.00000000e+00],\n",
       "       [  2.70000000e+01,   1.41000000e+00,   1.75000000e+01],\n",
       "       [  2.80000000e+01,   5.29000000e+02,   6.80000000e+02],\n",
       "       [  2.90000000e+01,   2.07000000e+02,   4.06000000e+02],\n",
       "       [  3.00000000e+01,   8.50000000e+01,   3.25000000e+02],\n",
       "       [  3.10000000e+01,   7.50000000e-01,   1.23000000e+01],\n",
       "       [  3.20000000e+01,   6.20000000e+01,   1.32000000e+03],\n",
       "       [  3.30000000e+01,   6.65400000e+03,   5.71200000e+03],\n",
       "       [  3.40000000e+01,   3.50000000e+00,   3.90000000e+00],\n",
       "       [  3.50000000e+01,   6.80000000e+00,   1.79000000e+02],\n",
       "       [  3.60000000e+01,   3.50000000e+01,   5.60000000e+01],\n",
       "       [  3.70000000e+01,   4.05000000e+00,   1.70000000e+01],\n",
       "       [  3.80000000e+01,   1.20000000e-01,   1.00000000e+00],\n",
       "       [  3.90000000e+01,   2.30000000e-02,   4.00000000e-01],\n",
       "       [  4.00000000e+01,   1.00000000e-02,   2.50000000e-01],\n",
       "       [  4.10000000e+01,   1.40000000e+00,   1.25000000e+01],\n",
       "       [  4.20000000e+01,   2.50000000e+02,   4.90000000e+02],\n",
       "       [  4.30000000e+01,   2.50000000e+00,   1.21000000e+01],\n",
       "       [  4.40000000e+01,   5.55000000e+01,   1.75000000e+02],\n",
       "       [  4.50000000e+01,   1.00000000e+02,   1.57000000e+02],\n",
       "       [  4.60000000e+01,   5.21600000e+01,   4.40000000e+02],\n",
       "       [  4.70000000e+01,   1.05500000e+01,   1.79500000e+02],\n",
       "       [  4.80000000e+01,   5.50000000e-01,   2.40000000e+00],\n",
       "       [  4.90000000e+01,   6.00000000e+01,   8.10000000e+01],\n",
       "       [  5.00000000e+01,   3.60000000e+00,   2.10000000e+01],\n",
       "       [  5.10000000e+01,   4.28800000e+00,   3.92000000e+01],\n",
       "       [  5.20000000e+01,   2.80000000e-01,   1.90000000e+00],\n",
       "       [  5.30000000e+01,   7.50000000e-02,   1.20000000e+00],\n",
       "       [  5.40000000e+01,   1.22000000e-01,   3.00000000e+00],\n",
       "       [  5.50000000e+01,   4.80000000e-02,   3.30000000e-01],\n",
       "       [  5.60000000e+01,   1.92000000e+02,   1.80000000e+02],\n",
       "       [  5.70000000e+01,   3.00000000e+00,   2.50000000e+01],\n",
       "       [  5.80000000e+01,   1.60000000e+02,   1.69000000e+02],\n",
       "       [  5.90000000e+01,   9.00000000e-01,   2.60000000e+00],\n",
       "       [  6.00000000e+01,   1.62000000e+00,   1.14000000e+01],\n",
       "       [  6.10000000e+01,   1.04000000e-01,   2.50000000e+00],\n",
       "       [  6.20000000e+01,   4.23500000e+00,   5.04000000e+01]])"
      ]
     },
     "execution_count": 53,
     "metadata": {},
     "output_type": "execute_result"
    }
   ],
   "source": [
    "data"
   ]
  },
  {
   "cell_type": "code",
   "execution_count": 23,
   "metadata": {
    "collapsed": true
   },
   "outputs": [],
   "source": [
    "x=data[:,1]\n",
    "y=data[:,2]"
   ]
  },
  {
   "cell_type": "code",
   "execution_count": 20,
   "metadata": {
    "collapsed": true
   },
   "outputs": [],
   "source": [
    "from sklearn.model_selection import train_test_split\n",
    "x_train,x_test,y_train,y_test=train_test_split(x,y,test_size=0.33)"
   ]
  },
  {
   "cell_type": "code",
   "execution_count": 24,
   "metadata": {
    "collapsed": true
   },
   "outputs": [
    {
     "data": {
      "text/plain": [
       "array([[  0.00000000e+00,   9.25000000e-01,   3.86300000e+00,\n",
       "          1.27500000e+00,  -4.20000000e-01,   3.45750000e+01,\n",
       "         -4.15000000e-01,   2.54657500e+03,   4.75000000e-01,\n",
       "          6.15000000e-01,   3.76500000e+00,  -4.02000000e-01,\n",
       "          3.07500000e+00,   3.17500000e+00,   5.50750000e+01,\n",
       "          2.49575000e+02,   5.17350000e+01,   1.01250000e+01,\n",
       "          2.72350000e+01,   1.86675000e+02,   1.57500000e+00],\n",
       "       [ -9.25000000e-01,   0.00000000e+00,   2.93800000e+00,\n",
       "          3.50000000e-01,  -1.34500000e+00,   3.36500000e+01,\n",
       "         -1.34000000e+00,   2.54565000e+03,  -4.50000000e-01,\n",
       "         -3.10000000e-01,   2.84000000e+00,  -1.32700000e+00,\n",
       "          2.15000000e+00,   2.25000000e+00,   5.41500000e+01,\n",
       "          2.48650000e+02,   5.08100000e+01,   9.20000000e+00,\n",
       "          2.63100000e+01,   1.85750000e+02,   6.50000000e-01],\n",
       "       [ -3.86300000e+00,  -2.93800000e+00,   0.00000000e+00,\n",
       "         -2.58800000e+00,  -4.28300000e+00,   3.07120000e+01,\n",
       "         -4.27800000e+00,   2.54271200e+03,  -3.38800000e+00,\n",
       "         -3.24800000e+00,  -9.80000000e-02,  -4.26500000e+00,\n",
       "         -7.88000000e-01,  -6.88000000e-01,   5.12120000e+01,\n",
       "          2.45712000e+02,   4.78720000e+01,   6.26200000e+00,\n",
       "          2.33720000e+01,   1.82812000e+02,  -2.28800000e+00],\n",
       "       [ -1.27500000e+00,  -3.50000000e-01,   2.58800000e+00,\n",
       "          0.00000000e+00,  -1.69500000e+00,   3.33000000e+01,\n",
       "         -1.69000000e+00,   2.54530000e+03,  -8.00000000e-01,\n",
       "         -6.60000000e-01,   2.49000000e+00,  -1.67700000e+00,\n",
       "          1.80000000e+00,   1.90000000e+00,   5.38000000e+01,\n",
       "          2.48300000e+02,   5.04600000e+01,   8.85000000e+00,\n",
       "          2.59600000e+01,   1.85400000e+02,   3.00000000e-01],\n",
       "       [  4.20000000e-01,   1.34500000e+00,   4.28300000e+00,\n",
       "          1.69500000e+00,   0.00000000e+00,   3.49950000e+01,\n",
       "          5.00000000e-03,   2.54699500e+03,   8.95000000e-01,\n",
       "          1.03500000e+00,   4.18500000e+00,   1.80000000e-02,\n",
       "          3.49500000e+00,   3.59500000e+00,   5.54950000e+01,\n",
       "          2.49995000e+02,   5.21550000e+01,   1.05450000e+01,\n",
       "          2.76550000e+01,   1.87095000e+02,   1.99500000e+00],\n",
       "       [ -3.45750000e+01,  -3.36500000e+01,  -3.07120000e+01,\n",
       "         -3.33000000e+01,  -3.49950000e+01,   0.00000000e+00,\n",
       "         -3.49900000e+01,   2.51200000e+03,  -3.41000000e+01,\n",
       "         -3.39600000e+01,  -3.08100000e+01,  -3.49770000e+01,\n",
       "         -3.15000000e+01,  -3.14000000e+01,   2.05000000e+01,\n",
       "          2.15000000e+02,   1.71600000e+01,  -2.44500000e+01,\n",
       "         -7.34000000e+00,   1.52100000e+02,  -3.30000000e+01],\n",
       "       [  4.15000000e-01,   1.34000000e+00,   4.27800000e+00,\n",
       "          1.69000000e+00,  -5.00000000e-03,   3.49900000e+01,\n",
       "          0.00000000e+00,   2.54699000e+03,   8.90000000e-01,\n",
       "          1.03000000e+00,   4.18000000e+00,   1.30000000e-02,\n",
       "          3.49000000e+00,   3.59000000e+00,   5.54900000e+01,\n",
       "          2.49990000e+02,   5.21500000e+01,   1.05400000e+01,\n",
       "          2.76500000e+01,   1.87090000e+02,   1.99000000e+00],\n",
       "       [ -2.54657500e+03,  -2.54565000e+03,  -2.54271200e+03,\n",
       "         -2.54530000e+03,  -2.54699500e+03,  -2.51200000e+03,\n",
       "         -2.54699000e+03,   0.00000000e+00,  -2.54610000e+03,\n",
       "         -2.54596000e+03,  -2.54281000e+03,  -2.54697700e+03,\n",
       "         -2.54350000e+03,  -2.54340000e+03,  -2.49150000e+03,\n",
       "         -2.29700000e+03,  -2.49484000e+03,  -2.53645000e+03,\n",
       "         -2.51934000e+03,  -2.35990000e+03,  -2.54500000e+03],\n",
       "       [ -4.75000000e-01,   4.50000000e-01,   3.38800000e+00,\n",
       "          8.00000000e-01,  -8.95000000e-01,   3.41000000e+01,\n",
       "         -8.90000000e-01,   2.54610000e+03,   0.00000000e+00,\n",
       "          1.40000000e-01,   3.29000000e+00,  -8.77000000e-01,\n",
       "          2.60000000e+00,   2.70000000e+00,   5.46000000e+01,\n",
       "          2.49100000e+02,   5.12600000e+01,   9.65000000e+00,\n",
       "          2.67600000e+01,   1.86200000e+02,   1.10000000e+00],\n",
       "       [ -6.15000000e-01,   3.10000000e-01,   3.24800000e+00,\n",
       "          6.60000000e-01,  -1.03500000e+00,   3.39600000e+01,\n",
       "         -1.03000000e+00,   2.54596000e+03,  -1.40000000e-01,\n",
       "          0.00000000e+00,   3.15000000e+00,  -1.01700000e+00,\n",
       "          2.46000000e+00,   2.56000000e+00,   5.44600000e+01,\n",
       "          2.48960000e+02,   5.11200000e+01,   9.51000000e+00,\n",
       "          2.66200000e+01,   1.86060000e+02,   9.60000000e-01],\n",
       "       [ -3.76500000e+00,  -2.84000000e+00,   9.80000000e-02,\n",
       "         -2.49000000e+00,  -4.18500000e+00,   3.08100000e+01,\n",
       "         -4.18000000e+00,   2.54281000e+03,  -3.29000000e+00,\n",
       "         -3.15000000e+00,   0.00000000e+00,  -4.16700000e+00,\n",
       "         -6.90000000e-01,  -5.90000000e-01,   5.13100000e+01,\n",
       "          2.45810000e+02,   4.79700000e+01,   6.36000000e+00,\n",
       "          2.34700000e+01,   1.82910000e+02,  -2.19000000e+00],\n",
       "       [  4.02000000e-01,   1.32700000e+00,   4.26500000e+00,\n",
       "          1.67700000e+00,  -1.80000000e-02,   3.49770000e+01,\n",
       "         -1.30000000e-02,   2.54697700e+03,   8.77000000e-01,\n",
       "          1.01700000e+00,   4.16700000e+00,   0.00000000e+00,\n",
       "          3.47700000e+00,   3.57700000e+00,   5.54770000e+01,\n",
       "          2.49977000e+02,   5.21370000e+01,   1.05270000e+01,\n",
       "          2.76370000e+01,   1.87077000e+02,   1.97700000e+00],\n",
       "       [ -3.07500000e+00,  -2.15000000e+00,   7.88000000e-01,\n",
       "         -1.80000000e+00,  -3.49500000e+00,   3.15000000e+01,\n",
       "         -3.49000000e+00,   2.54350000e+03,  -2.60000000e+00,\n",
       "         -2.46000000e+00,   6.90000000e-01,  -3.47700000e+00,\n",
       "          0.00000000e+00,   1.00000000e-01,   5.20000000e+01,\n",
       "          2.46500000e+02,   4.86600000e+01,   7.05000000e+00,\n",
       "          2.41600000e+01,   1.83600000e+02,  -1.50000000e+00],\n",
       "       [ -3.17500000e+00,  -2.25000000e+00,   6.88000000e-01,\n",
       "         -1.90000000e+00,  -3.59500000e+00,   3.14000000e+01,\n",
       "         -3.59000000e+00,   2.54340000e+03,  -2.70000000e+00,\n",
       "         -2.56000000e+00,   5.90000000e-01,  -3.57700000e+00,\n",
       "         -1.00000000e-01,   0.00000000e+00,   5.19000000e+01,\n",
       "          2.46400000e+02,   4.85600000e+01,   6.95000000e+00,\n",
       "          2.40600000e+01,   1.83500000e+02,  -1.60000000e+00],\n",
       "       [ -5.50750000e+01,  -5.41500000e+01,  -5.12120000e+01,\n",
       "         -5.38000000e+01,  -5.54950000e+01,  -2.05000000e+01,\n",
       "         -5.54900000e+01,   2.49150000e+03,  -5.46000000e+01,\n",
       "         -5.44600000e+01,  -5.13100000e+01,  -5.54770000e+01,\n",
       "         -5.20000000e+01,  -5.19000000e+01,   0.00000000e+00,\n",
       "          1.94500000e+02,  -3.34000000e+00,  -4.49500000e+01,\n",
       "         -2.78400000e+01,   1.31600000e+02,  -5.35000000e+01],\n",
       "       [ -2.49575000e+02,  -2.48650000e+02,  -2.45712000e+02,\n",
       "         -2.48300000e+02,  -2.49995000e+02,  -2.15000000e+02,\n",
       "         -2.49990000e+02,   2.29700000e+03,  -2.49100000e+02,\n",
       "         -2.48960000e+02,  -2.45810000e+02,  -2.49977000e+02,\n",
       "         -2.46500000e+02,  -2.46400000e+02,  -1.94500000e+02,\n",
       "          0.00000000e+00,  -1.97840000e+02,  -2.39450000e+02,\n",
       "         -2.22340000e+02,  -6.29000000e+01,  -2.48000000e+02],\n",
       "       [ -5.17350000e+01,  -5.08100000e+01,  -4.78720000e+01,\n",
       "         -5.04600000e+01,  -5.21550000e+01,  -1.71600000e+01,\n",
       "         -5.21500000e+01,   2.49484000e+03,  -5.12600000e+01,\n",
       "         -5.11200000e+01,  -4.79700000e+01,  -5.21370000e+01,\n",
       "         -4.86600000e+01,  -4.85600000e+01,   3.34000000e+00,\n",
       "          1.97840000e+02,   0.00000000e+00,  -4.16100000e+01,\n",
       "         -2.45000000e+01,   1.34940000e+02,  -5.01600000e+01],\n",
       "       [ -1.01250000e+01,  -9.20000000e+00,  -6.26200000e+00,\n",
       "         -8.85000000e+00,  -1.05450000e+01,   2.44500000e+01,\n",
       "         -1.05400000e+01,   2.53645000e+03,  -9.65000000e+00,\n",
       "         -9.51000000e+00,  -6.36000000e+00,  -1.05270000e+01,\n",
       "         -7.05000000e+00,  -6.95000000e+00,   4.49500000e+01,\n",
       "          2.39450000e+02,   4.16100000e+01,   0.00000000e+00,\n",
       "          1.71100000e+01,   1.76550000e+02,  -8.55000000e+00],\n",
       "       [ -2.72350000e+01,  -2.63100000e+01,  -2.33720000e+01,\n",
       "         -2.59600000e+01,  -2.76550000e+01,   7.34000000e+00,\n",
       "         -2.76500000e+01,   2.51934000e+03,  -2.67600000e+01,\n",
       "         -2.66200000e+01,  -2.34700000e+01,  -2.76370000e+01,\n",
       "         -2.41600000e+01,  -2.40600000e+01,   2.78400000e+01,\n",
       "          2.22340000e+02,   2.45000000e+01,  -1.71100000e+01,\n",
       "          0.00000000e+00,   1.59440000e+02,  -2.56600000e+01],\n",
       "       [ -1.86675000e+02,  -1.85750000e+02,  -1.82812000e+02,\n",
       "         -1.85400000e+02,  -1.87095000e+02,  -1.52100000e+02,\n",
       "         -1.87090000e+02,   2.35990000e+03,  -1.86200000e+02,\n",
       "         -1.86060000e+02,  -1.82910000e+02,  -1.87077000e+02,\n",
       "         -1.83600000e+02,  -1.83500000e+02,  -1.31600000e+02,\n",
       "          6.29000000e+01,  -1.34940000e+02,  -1.76550000e+02,\n",
       "         -1.59440000e+02,   0.00000000e+00,  -1.85100000e+02],\n",
       "       [ -1.57500000e+00,  -6.50000000e-01,   2.28800000e+00,\n",
       "         -3.00000000e-01,  -1.99500000e+00,   3.30000000e+01,\n",
       "         -1.99000000e+00,   2.54500000e+03,  -1.10000000e+00,\n",
       "         -9.60000000e-01,   2.19000000e+00,  -1.97700000e+00,\n",
       "          1.50000000e+00,   1.60000000e+00,   5.35000000e+01,\n",
       "          2.48000000e+02,   5.01600000e+01,   8.55000000e+00,\n",
       "          2.56600000e+01,   1.85100000e+02,   0.00000000e+00]])"
      ]
     },
     "execution_count": 24,
     "metadata": {},
     "output_type": "execute_result"
    }
   ],
   "source": [
    "x_train=x_train.reshape(-1,1)\n",
    "x_test=x_test.reshape(-1,1)"
   ]
  },
  {
   "cell_type": "code",
   "execution_count": 29,
   "metadata": {},
   "outputs": [
    {
     "data": {
      "text/plain": [
       "LinearRegression(copy_X=True, fit_intercept=True, n_jobs=1, normalize=False)"
      ]
     },
     "execution_count": 29,
     "metadata": {},
     "output_type": "execute_result"
    }
   ],
   "source": [
    "x=x.reshape(-1,1)\n",
    "reg=linear_model.LinearRegression()\n",
    "reg.fit(x_train,y_train)"
   ]
  },
  {
   "cell_type": "code",
   "execution_count": 31,
   "metadata": {},
   "outputs": [
    {
     "data": {
      "text/plain": [
       "0.94983143068960507"
      ]
     },
     "execution_count": 31,
     "metadata": {},
     "output_type": "execute_result"
    }
   ],
   "source": [
    "reg.score(x_train,y_train)"
   ]
  },
  {
   "cell_type": "code",
   "execution_count": 35,
   "metadata": {},
   "outputs": [
    {
     "data": {
      "text/plain": [
       "array([   76.46006415,    77.24827655,    79.75180958,    77.54651909,\n",
       "          76.10217311,   105.92216572,    76.10643372,  2246.45142559,\n",
       "          76.86482187,    76.98411888,    79.66830167,    76.1175113 ,\n",
       "          79.08033782,    79.16554997,   123.3906569 ,   289.12829266,\n",
       "         120.54457102,    85.08779454,    99.66759376,   235.52984901,\n",
       "          77.80215554])"
      ]
     },
     "execution_count": 35,
     "metadata": {},
     "output_type": "execute_result"
    }
   ],
   "source": [
    "reg.predict(x_test)"
   ]
  },
  {
   "cell_type": "code",
   "execution_count": 36,
   "metadata": {},
   "outputs": [
    {
     "data": {
      "text/plain": [
       "array([  6.40000000e+00,   8.10000000e+00,   3.92000000e+01,\n",
       "         6.30000000e+00,   1.40000000e-01,   5.60000000e+01,\n",
       "         2.50000000e-01,   4.60300000e+03,   2.60000000e+00,\n",
       "         5.50000000e+00,   5.80000000e+01,   4.00000000e-01,\n",
       "         1.08000000e+01,   2.10000000e+01,   1.75000000e+02,\n",
       "         4.90000000e+02,   4.40000000e+02,   1.79500000e+02,\n",
       "         1.15000000e+02,   4.19000000e+02,   1.23000000e+01])"
      ]
     },
     "execution_count": 36,
     "metadata": {},
     "output_type": "execute_result"
    }
   ],
   "source": [
    "y_test"
   ]
  },
  {
   "cell_type": "code",
   "execution_count": 34,
   "metadata": {
    "scrolled": true
   },
   "outputs": [
    {
     "data": {
      "text/plain": [
       "(21, 1)"
      ]
     },
     "execution_count": 34,
     "metadata": {},
     "output_type": "execute_result"
    }
   ],
   "source": [
    "x_test=x_test.reshape(-1,1)\n",
    "x_test.shape"
   ]
  },
  {
   "cell_type": "code",
   "execution_count": 37,
   "metadata": {},
   "outputs": [
    {
     "data": {
      "text/plain": [
       "array([ 0.85212152])"
      ]
     },
     "execution_count": 37,
     "metadata": {},
     "output_type": "execute_result"
    }
   ],
   "source": [
    "reg.coef_"
   ]
  },
  {
   "cell_type": "code",
   "execution_count": 38,
   "metadata": {
    "scrolled": true
   },
   "outputs": [
    {
     "data": {
      "text/plain": [
       "76.097912500235964"
      ]
     },
     "execution_count": 38,
     "metadata": {},
     "output_type": "execute_result"
    }
   ],
   "source": [
    "reg.intercept_"
   ]
  },
  {
   "cell_type": "code",
   "execution_count": 74,
   "metadata": {},
   "outputs": [
    {
     "data": {
      "image/png": "[encoded data removed]",
      "text/plain": [
       "<matplotlib.figure.Figure at 0x486fb60b70>"
      ]
     },
     "metadata": {},
     "output_type": "display_data"
    }
   ],
   "source": [
    "import matplotlib.pyplot as plt\n",
    "plt.scatter(x,y)\n",
    "plt.show()"
   ]
  },
  {
   "cell_type": "code",
   "execution_count": 49,
   "metadata": {
    "collapsed": true
   },
   "outputs": [],
   "source": [
    "temp_x=list()\n",
    "temp_y=list()\n",
    "def graph(formula,rang):\n",
    "    x=np.array(rang)\n",
    "    y=eval(formula)\n",
    "    #temp_x.append(x)\n",
    "    #temp_y.append(y)\n",
    "    plt.plot(x,y)\n",
    "    plt.show()"
   ]
  },
  {
   "cell_type": "code",
   "execution_count": 50,
   "metadata": {
    "scrolled": true
   },
   "outputs": [
    {
     "data": {
      "image/png": "[encoded data removed]",
      "text/plain": [
       "<matplotlib.figure.Figure at 0x486ebea5c0>"
      ]
     },
     "metadata": {},
     "output_type": "display_data"
    }
   ],
   "source": [
    "graph('0.85212152*x+76.097912500235964',range(0,7001))"
   ]
  },
  {
   "cell_type": "code",
   "execution_count": 71,
   "metadata": {
    "collapsed": true
   },
   "outputs": [],
   "source": [
    "from numpy.linalg import inv"
   ]
  },
  {
   "cell_type": "code",
   "execution_count": 68,
   "metadata": {
    "scrolled": true
   },
   "outputs": [],
   "source": [
    "x1=np.matrix([x_train.shape[0],sum(x_train),sum(x_train),sum(x_train**2)]).reshape(2,2)"
   ]
  },
  {
   "cell_type": "code",
   "execution_count": 69,
   "metadata": {
    "collapsed": true
   },
   "outputs": [],
   "source": [
    "y1=np.matrix([sum(y_train),sum(np.multiply(x_train,y_train))]).reshape(2,1)"
   ]
  },
  {
   "cell_type": "code",
   "execution_count": 72,
   "metadata": {},
   "outputs": [],
   "source": [
    "ans=np.dot(inv(x1),y1)"
   ]
  },
  {
   "cell_type": "code",
   "execution_count": 73,
   "metadata": {},
   "outputs": [
    {
     "data": {
      "text/plain": [
       "matrix([[ 76.0979125 ],\n",
       "        [  0.85212152]])"
      ]
     },
     "execution_count": 73,
     "metadata": {},
     "output_type": "execute_result"
    }
   ],
   "source": [
    "ans"
   ]
  }
 ],
 "metadata": {
  "kernelspec": {
   "display_name": "Python 3",
   "language": "python",
   "name": "python3"
  },
  "language_info": {
   "codemirror_mode": {
    "name": "ipython",
    "version": 3
   },
   "file_extension": ".py",
   "mimetype": "text/x-python",
   "name": "python",
   "nbconvert_exporter": "python",
   "pygments_lexer": "ipython3",
   "version": "3.6.7"
  }
 },
 "nbformat": 4,
 "nbformat_minor": 2
}
