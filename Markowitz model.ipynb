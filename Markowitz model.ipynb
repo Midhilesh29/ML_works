{
 "cells": [
  {
   "cell_type": "code",
   "execution_count": 1,
   "metadata": {},
   "outputs": [],
   "source": [
    "import pandas_datareader.data as web\n",
    "import numpy as np\n",
    "import pandas as pd"
   ]
  },
  {
   "cell_type": "code",
   "execution_count": 40,
   "metadata": {},
   "outputs": [],
   "source": [
    "stocks = ['AAPL','AMZN','MSFT','JBL']\n",
    "data = web.DataReader(stocks,data_source='yahoo',start='01/01/2010')['Adj Close']\n",
    "data.sort_index(inplace=True)\n",
    "returns = data.pct_change()"
   ]
  },
  {
   "cell_type": "code",
   "execution_count": 41,
   "metadata": {},
   "outputs": [
    {
     "name": "stdout",
     "output_type": "stream",
     "text": [
      "<class 'pandas.core.frame.DataFrame'>\n",
      "DatetimeIndex: 2326 entries, 2009-12-31 to 2019-03-29\n",
      "Data columns (total 4 columns):\n",
      "AAPL    2326 non-null float64\n",
      "AMZN    2326 non-null float64\n",
      "JBL     2326 non-null float64\n",
      "MSFT    2326 non-null float64\n",
      "dtypes: float64(4)\n",
      "memory usage: 90.9 KB\n"
     ]
    }
   ],
   "source": [
    "data.info()"
   ]
  },
  {
   "cell_type": "code",
   "execution_count": 42,
   "metadata": {},
   "outputs": [],
   "source": [
    "mean_daily_returns = returns.mean()\n",
    "cov_matrix = returns.cov()"
   ]
  },
  {
   "cell_type": "code",
   "execution_count": 43,
   "metadata": {},
   "outputs": [
    {
     "data": {
      "text/html": [
       "<div>\n",
       "<style scoped>\n",
       "    .dataframe tbody tr th:only-of-type {\n",
       "        vertical-align: middle;\n",
       "    }\n",
       "\n",
       "    .dataframe tbody tr th {\n",
       "        vertical-align: top;\n",
       "    }\n",
       "\n",
       "    .dataframe thead th {\n",
       "        text-align: right;\n",
       "    }\n",
       "</style>\n",
       "<table border=\"1\" class=\"dataframe\">\n",
       "  <thead>\n",
       "    <tr style=\"text-align: right;\">\n",
       "      <th>Symbols</th>\n",
       "      <th>AAPL</th>\n",
       "      <th>AMZN</th>\n",
       "      <th>JBL</th>\n",
       "      <th>MSFT</th>\n",
       "    </tr>\n",
       "    <tr>\n",
       "      <th>Symbols</th>\n",
       "      <th></th>\n",
       "      <th></th>\n",
       "      <th></th>\n",
       "      <th></th>\n",
       "    </tr>\n",
       "  </thead>\n",
       "  <tbody>\n",
       "    <tr>\n",
       "      <th>AAPL</th>\n",
       "      <td>0.000270</td>\n",
       "      <td>0.000127</td>\n",
       "      <td>0.000148</td>\n",
       "      <td>0.000108</td>\n",
       "    </tr>\n",
       "    <tr>\n",
       "      <th>AMZN</th>\n",
       "      <td>0.000127</td>\n",
       "      <td>0.000399</td>\n",
       "      <td>0.000149</td>\n",
       "      <td>0.000139</td>\n",
       "    </tr>\n",
       "    <tr>\n",
       "      <th>JBL</th>\n",
       "      <td>0.000148</td>\n",
       "      <td>0.000149</td>\n",
       "      <td>0.000469</td>\n",
       "      <td>0.000135</td>\n",
       "    </tr>\n",
       "    <tr>\n",
       "      <th>MSFT</th>\n",
       "      <td>0.000108</td>\n",
       "      <td>0.000139</td>\n",
       "      <td>0.000135</td>\n",
       "      <td>0.000210</td>\n",
       "    </tr>\n",
       "  </tbody>\n",
       "</table>\n",
       "</div>"
      ],
      "text/plain": [
       "Symbols      AAPL      AMZN       JBL      MSFT\n",
       "Symbols                                        \n",
       "AAPL     0.000270  0.000127  0.000148  0.000108\n",
       "AMZN     0.000127  0.000399  0.000149  0.000139\n",
       "JBL      0.000148  0.000149  0.000469  0.000135\n",
       "MSFT     0.000108  0.000139  0.000135  0.000210"
      ]
     },
     "execution_count": 43,
     "metadata": {},
     "output_type": "execute_result"
    }
   ],
   "source": [
    "cov_matrix"
   ]
  },
  {
   "cell_type": "code",
   "execution_count": 50,
   "metadata": {},
   "outputs": [],
   "source": [
    "num_portfolios = 25000\n",
    "results = np.zeros((3,num_portfolios))\n",
    "prop_weights=[]\n",
    "for i in range(num_portfolios):\n",
    "    #select random weights for portfolio holdings\n",
    "    weights = np.random.random(4)\n",
    "    #rebalance weights to sum to 1\n",
    "    weights /= np.sum(weights)\n",
    "    prop_weights.append(weights)\n",
    "    #calculate portfolio return and volatility\n",
    "    portfolio_return = np.sum(mean_daily_returns * weights) * 252\n",
    "    portfolio_std_dev = np.sqrt(np.dot(weights.T,np.dot(cov_matrix, weights))) * np.sqrt(252)\n",
    "    \n",
    "    #store results in results array\n",
    "    results[0,i] = portfolio_return\n",
    "    results[1,i] = portfolio_std_dev\n",
    "    #store Sharpe Ratio (return / volatility) - risk free rate element excluded for simplicity\n",
    "    results[2,i] = results[0,i] / results[1,i]"
   ]
  },
  {
   "cell_type": "code",
   "execution_count": 51,
   "metadata": {},
   "outputs": [],
   "source": [
    "results_frame = pd.DataFrame(results.T,columns=['ret','stdev','sharpe'])"
   ]
  },
  {
   "cell_type": "code",
   "execution_count": 52,
   "metadata": {},
   "outputs": [],
   "source": [
    "max_sharpe_port = results_frame.iloc[results_frame['sharpe'].idxmax()]\n",
    "w=prop_weights[results_frame['sharpe'].idxmax()]\n",
    "#min_vol_port = results_frame.iloc[results_frame['stdev'].idxmin()]"
   ]
  },
  {
   "cell_type": "code",
   "execution_count": 64,
   "metadata": {},
   "outputs": [
    {
     "name": "stdout",
     "output_type": "stream",
     "text": [
      "High Rish, High Return\n",
      "weigths of apple: 0.45904694612868296\n",
      "weights of amazon: 0.4049145676810821\n",
      "weigths of JBL: 8.478675253250926e-05\n",
      "weights of Microsoft: 0.1359536994377024\n"
     ]
    }
   ],
   "source": [
    "e=[\"weigths of apple:\",\"weights of amazon:\",\"weigths of JBL:\",\"weights of Microsoft:\"]\n",
    "print(\"High Rish, High Return\")\n",
    "for n,i in enumerate(w):\n",
    "    print(e[n],i)"
   ]
  },
  {
   "cell_type": "code",
   "execution_count": 46,
   "metadata": {
    "scrolled": true
   },
   "outputs": [
    {
     "data": {
      "image/png": "[encoded data removed]",
      "text/plain": [
       "<Figure size 432x288 with 2 Axes>"
      ]
     },
     "metadata": {},
     "output_type": "display_data"
    }
   ],
   "source": [
    "import matplotlib.pyplot as plt\n",
    "plt.scatter(results_frame.stdev,results_frame.ret,c=results_frame.sharpe,cmap='RdYlBu')\n",
    "plt.xlabel('Volatility')\n",
    "plt.ylabel('Returns')\n",
    "plt.colorbar()\n",
    "plt.show()"
   ]
  },
  {
   "cell_type": "code",
   "execution_count": null,
   "metadata": {},
   "outputs": [],
   "source": []
  }
 ],
 "metadata": {
  "kernelspec": {
   "display_name": "Python 3",
   "language": "python",
   "name": "python3"
  },
  "language_info": {
   "codemirror_mode": {
    "name": "ipython",
    "version": 3
   },
   "file_extension": ".py",
   "mimetype": "text/x-python",
   "name": "python",
   "nbconvert_exporter": "python",
   "pygments_lexer": "ipython3",
   "version": "3.6.7"
  }
 },
 "nbformat": 4,
 "nbformat_minor": 2
}
